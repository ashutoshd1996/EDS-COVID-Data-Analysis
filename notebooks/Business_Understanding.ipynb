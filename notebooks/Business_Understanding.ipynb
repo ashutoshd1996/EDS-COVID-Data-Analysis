{
 "cells": [
  {
   "cell_type": "code",
   "execution_count": 3,
   "id": "987d971b",
   "metadata": {},
   "outputs": [
    {
     "name": "stdout",
     "output_type": "stream",
     "text": [
      " Volume in drive E is Data\n",
      " Volume Serial Number is 3C89-985B\n",
      "\n",
      " Directory of E:\\code\\projects\\Covid_19_data_analysis_ashutosh\n",
      "\n",
      "23/05/2022  17:01    <DIR>          .\n",
      "23/05/2022  16:59    <DIR>          ..\n",
      "23/05/2022  17:00    <DIR>          .ipynb_checkpoints\n",
      "23/05/2022  17:00                23 .jovianrc\n",
      "23/05/2022  17:01           682,158 CRISP_DM.png\n",
      "23/05/2022  17:00                72 Untitled.ipynb\n",
      "               3 File(s)        682,253 bytes\n",
      "               3 Dir(s)  137,081,200,640 bytes free\n"
     ]
    }
   ],
   "source": [
    "!dir"
   ]
  },
  {
   "cell_type": "markdown",
   "id": "fc8025bb",
   "metadata": {},
   "source": [
    "![CRISP_DM](CRISP_DM.png)"
   ]
  },
  {
   "cell_type": "markdown",
   "id": "5528b15e",
   "metadata": {},
   "source": [
    "# Business Understanding"
   ]
  },
  {
   "cell_type": "markdown",
   "id": "99bb65a3",
   "metadata": {},
   "source": [
    "We would like to track Corona Virus spread across countries and with personal local information"
   ]
  },
  {
   "cell_type": "code",
   "execution_count": null,
   "id": "588cb627",
   "metadata": {},
   "outputs": [],
   "source": []
  }
 ],
 "metadata": {
  "kernelspec": {
   "display_name": "Python 3 (ipykernel)",
   "language": "python",
   "name": "python3"
  },
  "language_info": {
   "codemirror_mode": {
    "name": "ipython",
    "version": 3
   },
   "file_extension": ".py",
   "mimetype": "text/x-python",
   "name": "python",
   "nbconvert_exporter": "python",
   "pygments_lexer": "ipython3",
   "version": "3.9.12"
  }
 },
 "nbformat": 4,
 "nbformat_minor": 5
}
